{
    "cells": [
        {
            "cell_type": "markdown",
            "id": "ac622319",
            "metadata": {},
            "source": [
                "# Descriptive statistics problems"
            ]
        },
        {
            "cell_type": "markdown",
            "id": "5e0ab0d5",
            "metadata": {},
            "source": [
                "### Exercise 1\n",
                "\n",
                "We will use NumPy to obtain information to describe statistically.\n",
                "\n",
                "- Generate an array of 100 elements following a normal distribution.\n",
                "- Generate an array of 100 elements following a chi-square distribution with 3 degrees of freedom.\n",
                "- Calculate the main metrics and statistical measures that best describe the two vectors."
            ]
        },
        {
            "cell_type": "code",
            "execution_count": 18,
            "id": "34720ab6",
            "metadata": {},
            "outputs": [
                {
                    "name": "stdout",
                    "output_type": "stream",
                    "text": [
                        "medias: \n",
                        " array1 -0.056 array2 2.71\n",
                        "medianas: \n",
                        " array1 -0.003 array2 2.246\n",
                        "moda: \n",
                        " array1 0.553 array2 0.547\n",
                        "moda: \n",
                        " array1 4.692 array2 9.842\n",
                        "Array1 \n",
                        " varianza: 1.105 std: 1.05\n",
                        "Array2 \n",
                        " varianza: 4.079 std: 2.009\n",
                        "Skeness: \n",
                        " array1 -0.055 array2 1.222\n",
                        "Kurtosis: \n",
                        " array1 -0.651 array2 1.465\n"
                    ]
                }
            ],
            "source": [
                "# TODO\n",
                "import numpy as np\n",
                "import random\n",
                "import statistics as stats\n",
                "from scipy.stats import skew, kurtosis\n",
                "\n",
                "arr1 = np.random.normal(size=100)\n",
                "arr2 = np.random.chisquare(3,100)\n",
                "\n",
                "print(f\"medias: \\n array1 {round(arr1.mean(),3)} array2 {round(arr2.mean(),3)}\")\n",
                "\n",
                "print(f\"medianas: \\n array1 {round(stats.median(arr1),3)} array2 {round(stats.median(arr2),3)}\")\n",
                "\n",
                "print(f\"moda: \\n array1 {round(stats.mode(arr1),3)} array2 {round(stats.mode(arr2),3)}\")\n",
                "\n",
                "print(f\"moda: \\n array1 {round(arr1.max()-arr1.min(),3)} array2 {round(arr2.max()-arr2.min(),3)}\")\n",
                "\n",
                "print(f\"Array1 \\n varianza: {round(stats.variance(arr1),3)} std: {round(arr1.std(),2)}\")\n",
                "print(f\"Array2 \\n varianza: {round(stats.variance(arr2),3)} std: {round(arr2.std(),3)}\")\n",
                "\n",
                "print(f\"Skeness: \\n array1 {round(skew(arr1),3)} array2 {round(skew(arr2),3)}\")\n",
                "\n",
                "print(f\"Kurtosis: \\n array1 {round(kurtosis(arr1),3)} array2 {round(kurtosis(arr2),3)}\")"
            ]
        },
        {
            "cell_type": "markdown",
            "id": "46c70c3d",
            "metadata": {},
            "source": [
                "### Exercise 2\n",
                "\n",
                "Write a Python program to calculate the standard deviation of the following data:\n",
                "\n",
                "```py\n",
                "data = [4, 2, 5, 8, 6]\n",
                "```"
            ]
        },
        {
            "cell_type": "code",
            "execution_count": 8,
            "id": "d590308e",
            "metadata": {},
            "outputs": [
                {
                    "name": "stdout",
                    "output_type": "stream",
                    "text": [
                        "la desviacion estandar con funcion propia es: 2.23606797749979\n",
                        "la desviacion estandar con funcion interna es: 2.0\n"
                    ]
                }
            ],
            "source": [
                "# TODO\n",
                "import math\n",
                "import sys\n",
                "import numpy as np\n",
                "\n",
                "\n",
                "def desviation(data):\n",
                "\n",
                "    if (len(data) <= 1):\n",
                "        return 0.0\n",
                "\n",
                "    mean_data= mean(data)\n",
                "    calc= 0.0\n",
                "\n",
                "    for d in data:\n",
                "        calc += (float(d) - mean_data) ** 2\n",
                "\n",
                "    return math.sqrt(calc / float(len(data) - 1))\n",
                "\n",
                "def mean(data):\n",
                "    suma =  0.0\n",
                "\n",
                "    for d in data:\n",
                "        suma += float(d)\n",
                "\n",
                "    return suma / float(len(data))\n",
                "\n",
                "\n",
                "data=[4.0,2.0,5.0,8.0,6.0]\n",
                "print(f\"la desviacion estandar con funcion propia es: {desviation(data)}\")\n",
                "data_arr=np.array(data)\n",
                "print(f\"la desviacion estandar con funcion interna es: {data_arr.std()}\")\n",
                "\n"
            ]
        }
    ],
    "metadata": {
        "interpreter": {
            "hash": "9248718ffe6ce6938b217e69dbcc175ea21f4c6b28a317e96c05334edae734bb"
        },
        "kernelspec": {
            "display_name": "Python 3.9.12 ('ML-BOOTCAMP')",
            "language": "python",
            "name": "python3"
        },
        "language_info": {
            "codemirror_mode": {
                "name": "ipython",
                "version": 3
            },
            "file_extension": ".py",
            "mimetype": "text/x-python",
            "name": "python",
            "nbconvert_exporter": "python",
            "pygments_lexer": "ipython3",
            "version": "3.12.4"
        }
    },
    "nbformat": 4,
    "nbformat_minor": 5
}
